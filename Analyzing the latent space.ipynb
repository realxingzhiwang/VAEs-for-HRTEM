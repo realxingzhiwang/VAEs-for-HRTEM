{
 "cells": [
  {
   "cell_type": "code",
   "execution_count": null,
   "id": "compliant-librarian",
   "metadata": {},
   "outputs": [],
   "source": [
    "from insituanalysis import *\n",
    "import ncempy.io as nc\n",
    "import ast\n",
    "import matplotlib.pyplot as plt\n",
    "import keras\n",
    "from scipy.stats import spearmanr"
   ]
  },
  {
   "cell_type": "code",
   "execution_count": null,
   "id": "pregnant-shore",
   "metadata": {},
   "outputs": [],
   "source": [
    "loaded_encoder = keras.models.load_model('Trained VAEs/20220310_b_vae2d_64_b2_addeddepth_gaussian_image_augmented_20epoch_encoder')"
   ]
  },
  {
   "cell_type": "code",
   "execution_count": null,
   "id": "affecting-orbit",
   "metadata": {},
   "outputs": [],
   "source": [
    "loaded_decoder = keras.models.load_model('Trained VAEs/20220310_b_vae2d_64_b2_addeddepth_gaussian_image_augmented_20epoch_decoder')"
   ]
  },
  {
   "cell_type": "code",
   "execution_count": null,
   "id": "union-night",
   "metadata": {},
   "outputs": [],
   "source": [
    "data = np.load('training_data.npy') #This data file is available on Dryad"
   ]
  },
  {
   "cell_type": "code",
   "execution_count": null,
   "id": "republican-mexico",
   "metadata": {},
   "outputs": [],
   "source": [
    "z_mean_all, _, _ = encoder.predict(data)"
   ]
  },
  {
   "cell_type": "code",
   "execution_count": null,
   "id": "hybrid-momentum",
   "metadata": {},
   "outputs": [],
   "source": [
    "all_var = np.var(z_mean_all, axis=0)"
   ]
  },
  {
   "cell_type": "code",
   "execution_count": null,
   "id": "finished-vermont",
   "metadata": {},
   "outputs": [],
   "source": [
    "idx_sorted = np.argsort(all_var)"
   ]
  },
  {
   "cell_type": "code",
   "execution_count": null,
   "id": "vital-campaign",
   "metadata": {},
   "outputs": [],
   "source": [
    "plt.plot(all_var[idx_sorted], '.',markersize=10)\n",
    "plt.xlabel('Latent variable indices')\n",
    "plt.ylabel('Variance')\n",
    "plt.yticks([0, 0.25, 0.5, 0.75, 1])\n",
    "plt.title('Variances of latent variables')"
   ]
  },
  {
   "cell_type": "code",
   "execution_count": null,
   "id": "concrete-electricity",
   "metadata": {},
   "outputs": [],
   "source": [
    "test_idx = 0 #Change this number to explore the training dataset\n",
    "decoded_im = decoder.predict([np.expand_dims(z_mean_all[test_idx,:], axis=0)])\n",
    "fig = plt.figure(figsize=(10,20))\n",
    "fig.subplots_adjust(hspace=0)\n",
    "ax = fig.subplots(1, 2)\n",
    "ax[0].imshow(training_data[test_idx, :], cmap='gray')\n",
    "ax[0].set_title('Original image')\n",
    "ax[1].imshow(decoded_im[0, :, :, 0], cmap='gray')\n",
    "ax[1].set_title('Reconstructed image')"
   ]
  },
  {
   "cell_type": "code",
   "execution_count": null,
   "id": "focused-mailing",
   "metadata": {},
   "outputs": [],
   "source": [
    "video_data = np.load('annealing_021622.npy') #This data file is available on Dryad"
   ]
  },
  {
   "cell_type": "code",
   "execution_count": null,
   "id": "ruled-transparency",
   "metadata": {},
   "outputs": [],
   "source": [
    "plt.imshow(Gaussian_adjust(video_data[0,:,:]), cmap='gray')"
   ]
  },
  {
   "cell_type": "code",
   "execution_count": null,
   "id": "deadly-deviation",
   "metadata": {},
   "outputs": [],
   "source": [
    "video_sub = video_data[:, 400:1040, 120:760]"
   ]
  },
  {
   "cell_type": "code",
   "execution_count": null,
   "id": "expired-suite",
   "metadata": {},
   "outputs": [],
   "source": [
    "plt.imshow(Gaussian_adjust(video_sub[0,:,:]), cmap='gray')"
   ]
  },
  {
   "cell_type": "code",
   "execution_count": null,
   "id": "rubber-college",
   "metadata": {},
   "outputs": [],
   "source": [
    "all_z = list() #These codes maybe slow to run\n",
    "for i in range(73):\n",
    "    for j in range(73):\n",
    "        sub_center = [i*8+32, j*8+32]\n",
    "        z_sub_video = list()\n",
    "        for n in range(video_sub.shape[0]):\n",
    "            z_mean,_,_ = loaded_encoder.predict(norm(rescale(video_sub[n,sub_center[0]-32:sub_center[0]+32,sub_center[1]-32:sub_center[1]+32]))[np.newaxis,:,:,np.newaxis])\n",
    "            z_sub_video.append(z_mean)\n",
    "        all_z.append(np.array(z_sub_video)[:,0,:])"
   ]
  },
  {
   "cell_type": "code",
   "execution_count": null,
   "id": "cleared-former",
   "metadata": {},
   "outputs": [],
   "source": [
    "all_var = list()\n",
    "all_s = list()\n",
    "all_var_s = list()\n",
    "for z_video in all_z:\n",
    "    var_video = np.var(z_video, axis=0)\n",
    "    s_score = list()\n",
    "    for i in range(z_video.shape[1]):\n",
    "        s_score.append(spearmanr(np.arange(0,z_video[:, i].shape[0]), z_video[:, i])[0])\n",
    "    s_score = np.array(s_score)\n",
    "    \n",
    "    all_var.append(var_video[idx_sorted])\n",
    "    all_s.append(s_score[idx_sorted])\n",
    "    all_var_s.append(s_score[idx_sorted]*var_video[idx_sorted])"
   ]
  },
  {
   "cell_type": "code",
   "execution_count": null,
   "id": "parental-decision",
   "metadata": {},
   "outputs": [],
   "source": [
    "for i in range(64):\n",
    "    plt.figure()\n",
    "    plt.title('z_'+str(i))\n",
    "    plt.imshow((all_var_s[:,:,i])**2, vmin=-1, vmax=1)\n",
    "    plt.xticks([])\n",
    "    plt.yticks([])"
   ]
  }
 ],
 "metadata": {
  "kernelspec": {
   "display_name": "Python 3",
   "language": "python",
   "name": "python3"
  },
  "language_info": {
   "codemirror_mode": {
    "name": "ipython",
    "version": 3
   },
   "file_extension": ".py",
   "mimetype": "text/x-python",
   "name": "python",
   "nbconvert_exporter": "python",
   "pygments_lexer": "ipython3",
   "version": "3.8.5"
  }
 },
 "nbformat": 4,
 "nbformat_minor": 5
}
